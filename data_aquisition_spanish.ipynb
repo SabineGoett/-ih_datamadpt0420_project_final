{
 "cells": [
  {
   "cell_type": "code",
   "execution_count": 2,
   "metadata": {},
   "outputs": [],
   "source": [
    "import requests\n",
    "from bs4 import BeautifulSoup\n",
    "import pandas as pd\n",
    "import de_core_news_sm\n",
    "import json\n",
    "import regex as re"
   ]
  },
  {
   "cell_type": "code",
   "execution_count": 30,
   "metadata": {},
   "outputs": [],
   "source": [
    "\n"
   ]
  },
  {
   "cell_type": "code",
   "execution_count": 23,
   "metadata": {},
   "outputs": [],
   "source": [
    "# comedia \n",
    "link1 = \"http://www.sensacine.com/peliculas/mejores/nota-espectadores/genero-13005/\"\n",
    "\n",
    "# adventure\n",
    "link1 = \"http://www.sensacine.com/peliculas/mejores/nota-espectadores/genero-13001/\"\n",
    "\n",
    "# action\n",
    "link = \"http://www.sensacine.com/peliculas/mejores/nota-espectadores/genero-13025/\"\n",
    "\n",
    "# drama\n",
    "link1 = \"http://www.sensacine.com/peliculas/mejores/nota-espectadores/genero-13008/\"\n"
   ]
  },
  {
   "cell_type": "code",
   "execution_count": 6,
   "metadata": {},
   "outputs": [],
   "source": []
  },
  {
   "cell_type": "code",
   "execution_count": null,
   "metadata": {},
   "outputs": [],
   "source": []
  },
  {
   "cell_type": "code",
   "execution_count": null,
   "metadata": {},
   "outputs": [],
   "source": [
    "def get_list_web_links(link, last_page):\n",
    "    list_web_links =[link]\n",
    "    for a in range(2,last_page):\n",
    "        b = link + \"/?page=\" + str(a)\n",
    "        list_web_links.append(b)\n",
    "    return list_web_links"
   ]
  },
  {
   "cell_type": "code",
   "execution_count": 5,
   "metadata": {},
   "outputs": [],
   "source": [
    "def get_list_film_names_genre(link, last_page):\n",
    "    list_web_links_genre =[link]\n",
    "    list_film_names_genre = []\n",
    "    list_names = []\n",
    "    for a in range(2, last_page):\n",
    "        b = link +\"/?page=\" + str(a)\n",
    "        list_web_links_genre.append(b)\n",
    "    list_links = [requests.get(url).content for url in list_web_links_genre] \n",
    "    list_soup = [BeautifulSoup(html, 'lxml') for html in list_links]\n",
    "    list_film_name = [soup.find_all('h2', {'class': 'tt_18 d_inline'}) for soup in list_soup]\n",
    "    list_film_names_genre = [item for sublist in list_film_name for item in sublist]\n",
    "    list_genre_film_names = [re.sub('[\\W]+', ' ', item.text) for item in list_film_names_genre]\n",
    "    list_genre_film_names = [item[1:-1] for item in list_genre_film_names]\n",
    "    return list_genre_film_names"
   ]
  },
  {
   "cell_type": "code",
   "execution_count": 6,
   "metadata": {},
   "outputs": [],
   "source": [
    "def get_list_web_links_critics_genre(link, last_page):\n",
    "    list_web_links_genre =[link]\n",
    "    list_genre_link = []\n",
    "    list_link = []\n",
    "    for a in range(2, last_page):\n",
    "        b = link +\"/?page=\" + str(a)\n",
    "        list_web_links_genre.append(b)\n",
    "    list_links = [requests.get(url).content for url in list_web_links_genre] \n",
    "    list_soup = [BeautifulSoup(html, 'lxml') for html in list_links]\n",
    "    list_films_genre = [soup.find_all('a', {'class': 'no_underline'}) for soup in list_soup]\n",
    "    list_films_genre = [item for sublist in list_films_genre for item in sublist]\n",
    "    for r in list_films_genre:\n",
    "        list_link.append(r.get('href'))\n",
    "    for l in list_link:\n",
    "        c = \"http://www.sensacine.com\" + str(l) + \"criticas-espectadores\"\n",
    "        list_genre_link.append(c)\n",
    "    return list_genre_link"
   ]
  },
  {
   "cell_type": "code",
   "execution_count": 7,
   "metadata": {},
   "outputs": [],
   "source": [
    "def get_df_stars_genre(list_link_drama, list_names_genre):\n",
    "    t = [get_list_web_links(link,10) for link in list_link_drama]\n",
    "    df = pd.DataFrame(t)\n",
    "    df = df.applymap(lambda x: requests.get(x).content)\n",
    "    df = df.applymap(lambda x: BeautifulSoup(x, 'lxml'))\n",
    "    df = df.applymap(lambda x: x.find_all('span',{'class':'stareval-note'}) )\n",
    "    df['Film_name'] = list_names_genre\n",
    "    df_film_critics_genre = df.set_index('Film_name').transpose()\n",
    "    return df_film_critics_genre"
   ]
  },
  {
   "cell_type": "code",
   "execution_count": 8,
   "metadata": {},
   "outputs": [],
   "source": [
    "def get_df_critics_genre(list_link_drama, list_names_genre):\n",
    "    t = [get_list_web_links(link,10) for link in list_link_drama]\n",
    "    df = pd.DataFrame(t)\n",
    "    df = df.applymap(lambda x: requests.get(x).content)\n",
    "    df = df.applymap(lambda x: BeautifulSoup(x, 'lxml'))\n",
    "    df = df.applymap(lambda x: x.find_all('div',{'class':'content-txt review-card-content'}) )\n",
    "    df['Film_name'] = list_names_genre\n",
    "    df_film_critics_genre = df.set_index('Film_name').transpose()\n",
    "    return df_film_critics_genre"
   ]
  },
  {
   "cell_type": "code",
   "execution_count": 9,
   "metadata": {},
   "outputs": [],
   "source": [
    "def get_df_critics_genre_flaten(df_film_critics_genre, list_names_genre):\n",
    "    list_critics = [list(df_film_critics_genre[film_name]) for film_name in list_names_genre]\n",
    "    list_critics_flaten = [[item for sublist in i for item in sublist] for i in list_critics]\n",
    "    critics = [sorted(set(item), key = item.index) for item in list_critics_flaten]\n",
    "    df = pd.DataFrame(critics)\n",
    "    df['Film_name'] = list_names_genre\n",
    "    df_critics_genre_flaten = df.set_index('Film_name').transpose()\n",
    "    return df_critics_genre_flaten"
   ]
  },
  {
   "cell_type": "code",
   "execution_count": 10,
   "metadata": {},
   "outputs": [],
   "source": [
    "def save_evaluation_genre_df(df, genre_name):\n",
    "    df = df.applymap(lambda x: re.sub('[\\n]+', ' ', str(x)))\n",
    "    df = df.applymap(lambda x: re.sub('<div class=\"content-txt review-card-content\"> ', ' ', str(x)))\n",
    "    df = df.applymap(lambda x: re.sub('<div>', ' ', str(x)))\n",
    "    df = df.applymap(lambda x: re.sub('[  ]+', ' ', str(x)))\n",
    "    df = df.applymap(lambda x: re.sub('[\\r]+', ' ', str(x)))\n",
    "    f = genre_name\n",
    "    df.to_csv(f'./df_evaluations_genre/{f}', index = False)"
   ]
  },
  {
   "cell_type": "code",
   "execution_count": 11,
   "metadata": {},
   "outputs": [],
   "source": [
    "def save_evaluation_stars_df(df, genre_name):\n",
    "    df1 = df.applymap(lambda x: [str(u) for u in x])\n",
    "    df2 = df1.applymap(lambda x: [re.findall(\"[0-9].[0-9]\", t) for t in x])\n",
    "    df3 = df2.applymap(lambda x: str(x))\n",
    "    df4 = df3.applymap(lambda x: re.findall(\"[0-9].[0-9]\", x))\n",
    "    df5 = df4.applymap(lambda x: [re.sub(',','.',h) for h in x])\n",
    "    df6 = df5.applymap(lambda x: [float(z) for z in x])\n",
    "    df7 = df6.applymap(lambda x: x[:-6])\n",
    "    f = genre_name\n",
    "    df7.to_csv(f'./df_evaluations_genre/{f}', index = False)"
   ]
  },
  {
   "cell_type": "code",
   "execution_count": 19,
   "metadata": {},
   "outputs": [],
   "source": [
    "def get_film_name_number(list_web_links, list_film_names):\n",
    "    t = [re.findall('[0-9]', v) for v in list_web_links]\n",
    "    q = [(\"\".join(z)) for z in t] \n",
    "    dic = dict(zip(q, list_film_names))\n",
    "    return dic"
   ]
  },
  {
   "cell_type": "code",
   "execution_count": null,
   "metadata": {},
   "outputs": [],
   "source": []
  },
  {
   "cell_type": "code",
   "execution_count": 26,
   "metadata": {},
   "outputs": [],
   "source": [
    "film_names_drama_sp = get_list_film_names_genre(link, 6)"
   ]
  },
  {
   "cell_type": "code",
   "execution_count": 12,
   "metadata": {},
   "outputs": [],
   "source": [
    "film_names_comedy_sp = get_list_film_names_genre(link, 6)"
   ]
  },
  {
   "cell_type": "code",
   "execution_count": 24,
   "metadata": {},
   "outputs": [],
   "source": [
    "film_names_action_sp = get_list_film_names_genre(link, 6)"
   ]
  },
  {
   "cell_type": "code",
   "execution_count": null,
   "metadata": {},
   "outputs": [],
   "source": []
  },
  {
   "cell_type": "code",
   "execution_count": 27,
   "metadata": {},
   "outputs": [],
   "source": [
    "web_links_critics_drama_sp = get_list_web_links_critics_genre(link, 6)"
   ]
  },
  {
   "cell_type": "code",
   "execution_count": 13,
   "metadata": {},
   "outputs": [],
   "source": [
    "web_links_critics_comedy_sp = get_list_web_links_critics_genre(link, 6)"
   ]
  },
  {
   "cell_type": "code",
   "execution_count": 25,
   "metadata": {},
   "outputs": [],
   "source": [
    "web_links_critics_action_sp = get_list_web_links_critics_genre(link, 6)"
   ]
  },
  {
   "cell_type": "code",
   "execution_count": null,
   "metadata": {},
   "outputs": [],
   "source": []
  },
  {
   "cell_type": "code",
   "execution_count": 28,
   "metadata": {},
   "outputs": [],
   "source": [
    "df_film_critics_drama_sp = get_df_critics_genre(web_links_critics_drama_sp, film_names_drama_sp)"
   ]
  },
  {
   "cell_type": "code",
   "execution_count": 14,
   "metadata": {},
   "outputs": [],
   "source": [
    "df_film_critics_comedy_sp = get_df_critics_genre(web_links_critics_comedy_sp, film_names_comedy_sp)"
   ]
  },
  {
   "cell_type": "code",
   "execution_count": 26,
   "metadata": {},
   "outputs": [],
   "source": [
    "df_film_critics_action_sp = get_df_critics_genre(web_links_critics_action_sp, film_names_action_sp)"
   ]
  },
  {
   "cell_type": "code",
   "execution_count": 67,
   "metadata": {},
   "outputs": [],
   "source": []
  },
  {
   "cell_type": "code",
   "execution_count": 29,
   "metadata": {},
   "outputs": [],
   "source": [
    "df_drama_sp = get_df_critics_genre_flaten(df_film_critics_drama_sp, film_names_drama_sp)"
   ]
  },
  {
   "cell_type": "code",
   "execution_count": 15,
   "metadata": {},
   "outputs": [],
   "source": [
    "df_comedy_sp = get_df_critics_genre_flaten(df_film_critics_comedy_sp, film_names_comedy_sp)"
   ]
  },
  {
   "cell_type": "code",
   "execution_count": 27,
   "metadata": {},
   "outputs": [],
   "source": [
    "df_action_sp = get_df_critics_genre_flaten(df_film_critics_action_sp, film_names_action_sp)"
   ]
  },
  {
   "cell_type": "code",
   "execution_count": null,
   "metadata": {},
   "outputs": [],
   "source": []
  },
  {
   "cell_type": "code",
   "execution_count": 30,
   "metadata": {},
   "outputs": [],
   "source": [
    "save_evaluation_genre_df(df_drama_sp, 'drama_sp')"
   ]
  },
  {
   "cell_type": "code",
   "execution_count": 16,
   "metadata": {},
   "outputs": [],
   "source": [
    "save_evaluation_genre_df(df_comedy_sp, 'comedy_sp')"
   ]
  },
  {
   "cell_type": "code",
   "execution_count": 28,
   "metadata": {},
   "outputs": [],
   "source": [
    "save_evaluation_genre_df(df_action_sp, 'action_sp')"
   ]
  },
  {
   "cell_type": "code",
   "execution_count": null,
   "metadata": {},
   "outputs": [],
   "source": []
  },
  {
   "cell_type": "code",
   "execution_count": 22,
   "metadata": {},
   "outputs": [],
   "source": [
    "df_film_stars_drama = get_df_stars_genre(web_links_critics_drama_sp, film_names_drama_sp)"
   ]
  },
  {
   "cell_type": "code",
   "execution_count": 17,
   "metadata": {},
   "outputs": [],
   "source": [
    "df_film_stars_comedy = get_df_stars_genre(web_links_critics_comedy_sp, film_names_comedy_sp)"
   ]
  },
  {
   "cell_type": "code",
   "execution_count": 29,
   "metadata": {},
   "outputs": [],
   "source": [
    "df_film_stars_action = get_df_stars_genre(web_links_critics_action_sp, film_names_action_sp)"
   ]
  },
  {
   "cell_type": "code",
   "execution_count": null,
   "metadata": {},
   "outputs": [],
   "source": []
  },
  {
   "cell_type": "code",
   "execution_count": 25,
   "metadata": {},
   "outputs": [],
   "source": [
    "save_evaluation_stars_df (df_film_stars_drama, 'drama_stars_sp')"
   ]
  },
  {
   "cell_type": "code",
   "execution_count": 18,
   "metadata": {},
   "outputs": [],
   "source": [
    "save_evaluation_stars_df (df_film_stars_comedy, 'comedy_stars_sp')"
   ]
  },
  {
   "cell_type": "code",
   "execution_count": 30,
   "metadata": {},
   "outputs": [],
   "source": [
    "save_evaluation_stars_df (df_film_stars_action, 'action_stars_sp')"
   ]
  },
  {
   "cell_type": "code",
   "execution_count": 14,
   "metadata": {},
   "outputs": [],
   "source": []
  },
  {
   "cell_type": "code",
   "execution_count": 15,
   "metadata": {},
   "outputs": [],
   "source": [
    "dic_film_number_drama_sp = get_film_name_number(web_links_critics_drama_sp, film_names_drama_sp)"
   ]
  },
  {
   "cell_type": "code",
   "execution_count": 18,
   "metadata": {},
   "outputs": [],
   "source": [
    "a_file = open(\"./dic_film_number/dic_film_number_drama_sp\", \"w\") \n",
    "json.dump(dic_film_number_drama_sp, a_file)\n",
    "a_file.close()"
   ]
  },
  {
   "cell_type": "code",
   "execution_count": 20,
   "metadata": {},
   "outputs": [],
   "source": [
    "dic_film_number_comedy_sp = get_film_name_number(web_links_critics_comedy_sp, film_names_comedy_sp)"
   ]
  },
  {
   "cell_type": "code",
   "execution_count": 21,
   "metadata": {},
   "outputs": [],
   "source": [
    "a_file = open(\"./dic_film_number/dic_film_number_comedy_sp\", \"w\") \n",
    "json.dump(dic_film_number_comedy_sp, a_file)\n",
    "a_file.close()"
   ]
  },
  {
   "cell_type": "code",
   "execution_count": 31,
   "metadata": {},
   "outputs": [],
   "source": [
    "dic_film_number_action_sp = get_film_name_number(web_links_critics_action_sp, film_names_action_sp)"
   ]
  },
  {
   "cell_type": "code",
   "execution_count": 32,
   "metadata": {},
   "outputs": [],
   "source": [
    "a_file = open(\"./dic_film_number/dic_film_number_action_sp\", \"w\") \n",
    "json.dump(dic_film_number_action_sp, a_file)\n",
    "a_file.close()"
   ]
  },
  {
   "cell_type": "code",
   "execution_count": null,
   "metadata": {},
   "outputs": [],
   "source": []
  },
  {
   "cell_type": "code",
   "execution_count": null,
   "metadata": {},
   "outputs": [],
   "source": []
  },
  {
   "cell_type": "code",
   "execution_count": null,
   "metadata": {},
   "outputs": [],
   "source": []
  }
 ],
 "metadata": {
  "kernelspec": {
   "display_name": "Python [conda env:IH_env]",
   "language": "python",
   "name": "conda-env-IH_env-py"
  },
  "language_info": {
   "codemirror_mode": {
    "name": "ipython",
    "version": 3
   },
   "file_extension": ".py",
   "mimetype": "text/x-python",
   "name": "python",
   "nbconvert_exporter": "python",
   "pygments_lexer": "ipython3",
   "version": "3.7.7"
  }
 },
 "nbformat": 4,
 "nbformat_minor": 4
}
