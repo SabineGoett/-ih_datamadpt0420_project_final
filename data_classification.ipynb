{
 "cells": [
  {
   "cell_type": "code",
   "execution_count": 1,
   "metadata": {},
   "outputs": [],
   "source": [
    "import re\n",
    "import pandas as pd\n",
    "import transformers\n",
    "from transformers import pipeline\n",
    "from transformers import AutoTokenizer, AutoModelForSequenceClassification\n",
    "import json\n",
    "from collections import defaultdict"
   ]
  },
  {
   "cell_type": "code",
   "execution_count": null,
   "metadata": {},
   "outputs": [],
   "source": []
  },
  {
   "cell_type": "code",
   "execution_count": 2,
   "metadata": {},
   "outputs": [],
   "source": [
    "def get_classifier():\n",
    "    model_name = \"nlptown/bert-base-multilingual-uncased-sentiment\"\n",
    "    tokenizer = AutoTokenizer.from_pretrained(model_name)\n",
    "    classifier = pipeline('sentiment-analysis', model=model_name, tokenizer = tokenizer)\n",
    "    return classifier"
   ]
  },
  {
   "cell_type": "code",
   "execution_count": 4,
   "metadata": {},
   "outputs": [],
   "source": [
    "classifier = get_classifier()"
   ]
  },
  {
   "cell_type": "code",
   "execution_count": 5,
   "metadata": {},
   "outputs": [],
   "source": [
    "def get_dic_classifier_stars_genre(data):\n",
    "    data1 = data.applymap(lambda x: x[:512])\n",
    "    data2 = data1.applymap(lambda x: classifier(x) if x != 'None' else 'None')\n",
    "    data3 = data2.applymap(lambda x: x[0]['label'][:1] if x != 'None' else 'None')\n",
    "    data4 = data3.applymap(lambda x: int(x) if x != 'None' else 0)\n",
    "    lista_films = data.columns.to_list()\n",
    "    list_mean_evaluation_stars = [(data4[film_name].sum())/(len(data4[film_name]) -(len(data4[data4[film_name]==0])))if (len(data4[film_name]) -(len(data4[data4[film_name]==0]))) > 0 else 0 for film_name in lista_films]\n",
    "    list_mean_evaluation_stars = [x.round(1) if x != 0 else 0 for x in list_mean_evaluation_stars]\n",
    "    dic = dict(zip(lista_films, list_mean_evaluation_stars))\n",
    "    return dic"
   ]
  },
  {
   "cell_type": "code",
   "execution_count": 6,
   "metadata": {},
   "outputs": [],
   "source": [
    "def get_number_comments(df):\n",
    "    list_film_names = df.columns.to_list()\n",
    "    list_number_comments = [100 - len(df[df[film_name]=='None']) for film_name in list_film_names]\n",
    "    dic = dict(zip(list_film_names, list_number_comments))\n",
    "    return dic"
   ]
  },
  {
   "cell_type": "code",
   "execution_count": 7,
   "metadata": {},
   "outputs": [],
   "source": [
    "def get_star_evaluation_user_dic(df_genre_stars, dic_number_comments ):\n",
    "    df = df_genre_stars.applymap(lambda x: re.sub('\\[','', x))\n",
    "    df = df.applymap(lambda x : re.sub('\\]', '', x))\n",
    "    df = df.applymap(lambda x: list(x.split(\",\")))\n",
    "    l = [df[film].to_list() for film in dic_number_comments.keys()]\n",
    "    k = [[item for sublist in r for item in sublist] for r in l ]\n",
    "    list_star_evaluation_users = [f[0:dic_number_comments[film]] for f, film in zip(k,dic_number_comments.keys())]\n",
    "    list_star_evaluation_users1 = [[float(x) if x != '' else 0 for x in t] for t in list_star_evaluation_users]\n",
    "    list_mean_evaluation_stars = [(sum(x)/len(x)) for x in list_star_evaluation_users1]\n",
    "    list_mean_evaluation_stars = [round(x,1) if x != 0 else 0 for x in list_mean_evaluation_stars]\n",
    "    dic = dict(zip(list(dic_number_comments.keys()), list_mean_evaluation_stars))\n",
    "    return dic"
   ]
  },
  {
   "cell_type": "code",
   "execution_count": 8,
   "metadata": {},
   "outputs": [],
   "source": [
    "def create_df_classifier_user_number(dic_genre_critics, dic_star_evaluation_user_genre, dic_genre_number_comments):\n",
    "    df1 = pd.DataFrame(list(dic_genre_critics.items()),columns = ['film_name','stars_classifier']) \n",
    "    df2 = pd.DataFrame(list(dic_star_evaluation_user_genre.items()),columns = ['film_name1','stars_user']) \n",
    "    df3 = pd.DataFrame(list(dic_genre_number_comments.items()), columns = ['film_name2', 'number_of_comments'])\n",
    "    df4 = pd.concat([df1, df2, df3], axis = 1)\n",
    "    df5 = df4.drop(columns = ['film_name1', 'film_name2'])\n",
    "    return df5"
   ]
  },
  {
   "cell_type": "code",
   "execution_count": 9,
   "metadata": {},
   "outputs": [],
   "source": [
    "def get_lists_same_film_names_genre(dic_film_number_genre_ge, dic_film_number_genre_sp):\n",
    "    dd = defaultdict(list)\n",
    "    for d in (dic_film_number_genre_ge, dic_film_number_genre_sp): \n",
    "        for key, value in d.items():\n",
    "            dd[key].append(value)\n",
    "    a = dict(dd)\n",
    "    y = list(a.values())\n",
    "    o = [w for w in y if len(w) >1]\n",
    "    list_ge = []\n",
    "    list_sp = []\n",
    "    for w in o:\n",
    "        list_ge.append(w[0])\n",
    "        list_sp.append(w[1])\n",
    "    return list_ge, list_sp"
   ]
  },
  {
   "cell_type": "code",
   "execution_count": null,
   "metadata": {},
   "outputs": [],
   "source": []
  },
  {
   "cell_type": "code",
   "execution_count": 56,
   "metadata": {},
   "outputs": [],
   "source": [
    "list_drama_ge, list_drama_sp = get_lists_same_film_names_genre(dic_film_number_drama_ge, dic_film_number_drama_sp)"
   ]
  },
  {
   "cell_type": "code",
   "execution_count": 127,
   "metadata": {},
   "outputs": [],
   "source": [
    "list_comedy_ge, list_comedy_sp = get_lists_same_film_names_genre(dic_film_number_comedy_ge, dic_film_number_comedy_sp)"
   ]
  },
  {
   "cell_type": "code",
   "execution_count": 47,
   "metadata": {},
   "outputs": [],
   "source": [
    "list_action_ge, list_action_sp = get_lists_same_film_names_genre(dic_film_number_action_ge, dic_film_number_action_sp)"
   ]
  },
  {
   "cell_type": "code",
   "execution_count": null,
   "metadata": {},
   "outputs": [],
   "source": []
  },
  {
   "cell_type": "code",
   "execution_count": 10,
   "metadata": {},
   "outputs": [],
   "source": [
    "def get_df_same_film_names_genre(list_genre, dic_genre_critics, dic_star_evaluation_user_genre, dic_genre_number_comments):\n",
    "    dic_de = dict(zip(list_genre, range(0, len(list_genre))))\n",
    "    dd = defaultdict(list)\n",
    "    for d in (dic_de, dic_genre_critics, dic_star_evaluation_user_genre, dic_genre_number_comments): \n",
    "        for key, value in d.items():\n",
    "            dd[key].append(value)\n",
    "    q = dict(dd)\n",
    "    comp_df_ge = pd.DataFrame(list(q.items()), columns = ['film_name', 'numbers'])\n",
    "    comp_df_ge = comp_df_ge.head(len(list_genre))\n",
    "    comp_df_ge[['number', 'stars_classifier', 'stars_user', 'number_comments']] = pd.DataFrame(comp_df_ge.numbers.tolist(), index = comp_df_ge.index)\n",
    "    comp_df_ge = comp_df_ge.drop(columns = ['number', 'numbers'])\n",
    "    return comp_df_ge"
   ]
  },
  {
   "cell_type": "code",
   "execution_count": null,
   "metadata": {},
   "outputs": [],
   "source": []
  },
  {
   "cell_type": "code",
   "execution_count": 32,
   "metadata": {},
   "outputs": [],
   "source": [
    "df_drama_ge = pd.read_csv('./df_evaluations_genre/drama_ge')"
   ]
  },
  {
   "cell_type": "code",
   "execution_count": 33,
   "metadata": {},
   "outputs": [],
   "source": [
    "df_comedy_ge = pd.read_csv('./df_evaluations_genre/comedy_ge')"
   ]
  },
  {
   "cell_type": "code",
   "execution_count": 34,
   "metadata": {},
   "outputs": [],
   "source": [
    "df_action_ge = pd.read_csv('./df_evaluations_genre/action_ge')"
   ]
  },
  {
   "cell_type": "code",
   "execution_count": 36,
   "metadata": {},
   "outputs": [],
   "source": [
    "df_drama_sp = pd.read_csv('./df_evaluations_genre/drama_sp')"
   ]
  },
  {
   "cell_type": "code",
   "execution_count": 37,
   "metadata": {},
   "outputs": [],
   "source": [
    "df_comedy_sp = pd.read_csv('./df_evaluations_genre/comedy_sp')"
   ]
  },
  {
   "cell_type": "code",
   "execution_count": 38,
   "metadata": {},
   "outputs": [],
   "source": [
    "df_action_sp = pd.read_csv('./df_evaluations_genre/action_sp')"
   ]
  },
  {
   "cell_type": "code",
   "execution_count": null,
   "metadata": {},
   "outputs": [],
   "source": []
  },
  {
   "cell_type": "code",
   "execution_count": 114,
   "metadata": {},
   "outputs": [],
   "source": [
    "dic_drama_ge_critics = get_dic_classifier_stars_genre(df_drama_ge)"
   ]
  },
  {
   "cell_type": "code",
   "execution_count": 116,
   "metadata": {},
   "outputs": [],
   "source": [
    "a_file = open(\"./df_evaluations_genre/dic_drama_ge_critics\", \"w\") \n",
    "json.dump(dic_drama_ge_critics, a_file)\n",
    "a_file.close()"
   ]
  },
  {
   "cell_type": "code",
   "execution_count": 17,
   "metadata": {},
   "outputs": [],
   "source": [
    " with open(\"./df_evaluations_genre/dic_drama_ge_critics\", \"r\") as fp:\n",
    "        dic_drama_ge_critics = json.load(fp)"
   ]
  },
  {
   "cell_type": "code",
   "execution_count": 37,
   "metadata": {},
   "outputs": [],
   "source": [
    "dic_comedy_ge_critics = get_dic_classifier_stars_genre(df_comedy_ge)"
   ]
  },
  {
   "cell_type": "code",
   "execution_count": null,
   "metadata": {},
   "outputs": [],
   "source": [
    "a_file = open(\"./df_evaluations_genre/dic_comedy_ge_critics\", \"w\") \n",
    "json.dump(dic_comedy_ge_critics, a_file)\n",
    "a_file.close()"
   ]
  },
  {
   "cell_type": "code",
   "execution_count": 18,
   "metadata": {},
   "outputs": [],
   "source": [
    "with open(\"./df_evaluations_genre/dic_comedy_ge_critics\", \"r\") as fp:\n",
    "        dic_comedy_ge_critics = json.load(fp)"
   ]
  },
  {
   "cell_type": "code",
   "execution_count": 25,
   "metadata": {},
   "outputs": [],
   "source": [
    "dic_action_ge_critics = get_dic_classifier_stars_genre(df_action_ge)"
   ]
  },
  {
   "cell_type": "code",
   "execution_count": 26,
   "metadata": {},
   "outputs": [],
   "source": [
    "a_file = open(\"./df_evaluations_genre/dic_action_ge_critics\", \"w\") \n",
    "json.dump(dic_action_ge_critics, a_file)\n",
    "a_file.close()"
   ]
  },
  {
   "cell_type": "code",
   "execution_count": 19,
   "metadata": {},
   "outputs": [],
   "source": [
    "with open(\"./df_evaluations_genre/dic_action_ge_critics\", \"r\") as fp:\n",
    "        dic_action_ge_critics = json.load(fp)"
   ]
  },
  {
   "cell_type": "code",
   "execution_count": null,
   "metadata": {},
   "outputs": [],
   "source": []
  },
  {
   "cell_type": "code",
   "execution_count": 48,
   "metadata": {},
   "outputs": [],
   "source": [
    "dic_drama_sp_critics = get_dic_classifier_stars_genre(df_drama_sp)"
   ]
  },
  {
   "cell_type": "code",
   "execution_count": 50,
   "metadata": {},
   "outputs": [],
   "source": [
    "a_file = open(\"./df_evaluations_genre/dic_drama_sp_critics\", \"w\") \n",
    "json.dump(dic_drama_sp_critics, a_file)\n",
    "a_file.close()"
   ]
  },
  {
   "cell_type": "code",
   "execution_count": 62,
   "metadata": {},
   "outputs": [],
   "source": [
    "with open(\"./df_evaluations_genre/dic_drama_sp_critics\", \"r\") as fp:\n",
    "        dic_drama_sp_critics = json.load(fp)"
   ]
  },
  {
   "cell_type": "code",
   "execution_count": 25,
   "metadata": {},
   "outputs": [],
   "source": [
    "dic_comedy_sp_critics = get_dic_classifier_stars_genre(df_comedy_sp)"
   ]
  },
  {
   "cell_type": "code",
   "execution_count": 26,
   "metadata": {},
   "outputs": [],
   "source": [
    "a_file = open(\"./df_evaluations_genre/dic_comedy_sp_critics\", \"w\") \n",
    "json.dump(dic_comedy_sp_critics, a_file)\n",
    "a_file.close()"
   ]
  },
  {
   "cell_type": "code",
   "execution_count": 51,
   "metadata": {},
   "outputs": [],
   "source": [
    "with open(\"./df_evaluations_genre/dic_comedy_sp_critics\", \"r\") as fp:\n",
    "        dic_drama_sp_critics = json.load(fp)"
   ]
  },
  {
   "cell_type": "code",
   "execution_count": 32,
   "metadata": {},
   "outputs": [],
   "source": [
    "dic_action_sp_critics = get_dic_classifier_stars_genre(df_action_sp)"
   ]
  },
  {
   "cell_type": "code",
   "execution_count": 10,
   "metadata": {},
   "outputs": [],
   "source": [
    "a_file = open(\"./df_evaluations_genre/dic_action_sp_critics\", \"w\") \n",
    "json.dump(dic_action_sp_critics, a_file)\n",
    "a_file.close()"
   ]
  },
  {
   "cell_type": "code",
   "execution_count": 20,
   "metadata": {},
   "outputs": [],
   "source": [
    "with open(\"./df_evaluations_genre/dic_action_sp_critics\", \"r\") as fp:\n",
    "        dic_action_sp_critics = json.load(fp)"
   ]
  },
  {
   "cell_type": "code",
   "execution_count": null,
   "metadata": {},
   "outputs": [],
   "source": []
  },
  {
   "cell_type": "code",
   "execution_count": 29,
   "metadata": {},
   "outputs": [],
   "source": [
    "dic_drama_number_comments_ge = get_number_comments(df_drama_ge)"
   ]
  },
  {
   "cell_type": "code",
   "execution_count": 30,
   "metadata": {},
   "outputs": [],
   "source": [
    "dic_comedy_number_comments_ge = get_number_comments(df_comedy_ge)"
   ]
  },
  {
   "cell_type": "code",
   "execution_count": 39,
   "metadata": {},
   "outputs": [],
   "source": [
    "dic_action_number_comments_ge = get_number_comments(df_action_ge)"
   ]
  },
  {
   "cell_type": "code",
   "execution_count": 40,
   "metadata": {},
   "outputs": [],
   "source": [
    "dic_drama_number_comments_sp = get_number_comments(df_drama_sp)"
   ]
  },
  {
   "cell_type": "code",
   "execution_count": 41,
   "metadata": {},
   "outputs": [],
   "source": [
    "dic_comedy_number_comments_sp = get_number_comments(df_comedy_sp)"
   ]
  },
  {
   "cell_type": "code",
   "execution_count": 42,
   "metadata": {},
   "outputs": [],
   "source": [
    "dic_action_number_comments_sp = get_number_comments(df_action_sp)"
   ]
  },
  {
   "cell_type": "code",
   "execution_count": null,
   "metadata": {},
   "outputs": [],
   "source": []
  },
  {
   "cell_type": "code",
   "execution_count": 43,
   "metadata": {},
   "outputs": [],
   "source": [
    "dic_star_evaluation_user_drama_ge = get_star_evaluation_user_dic(df_drama_user_stars_ge, dic_drama_number_comments_ge)"
   ]
  },
  {
   "cell_type": "code",
   "execution_count": 44,
   "metadata": {},
   "outputs": [],
   "source": [
    "dic_star_evaluation_user_drama_sp = get_star_evaluation_user_dic(df_drama_user_stars_sp, dic_drama_number_comments_sp)"
   ]
  },
  {
   "cell_type": "code",
   "execution_count": 45,
   "metadata": {},
   "outputs": [],
   "source": [
    "dic_star_evaluation_user_comedy_ge = get_star_evaluation_user_dic(df_comedy_user_stars_ge, dic_comedy_number_comments_ge)"
   ]
  },
  {
   "cell_type": "code",
   "execution_count": 46,
   "metadata": {},
   "outputs": [],
   "source": [
    "dic_star_evaluation_user_comedy_sp = get_star_evaluation_user_dic(df_comedy_user_stars_sp, dic_comedy_number_comments_sp)"
   ]
  },
  {
   "cell_type": "code",
   "execution_count": 47,
   "metadata": {},
   "outputs": [],
   "source": [
    "dic_star_evaluation_user_action_ge = get_star_evaluation_user_dic(df_action_user_stars_ge, dic_action_number_comments_ge)"
   ]
  },
  {
   "cell_type": "code",
   "execution_count": 48,
   "metadata": {},
   "outputs": [],
   "source": [
    "dic_star_evaluation_user_action_sp = get_star_evaluation_user_dic(df_action_user_stars_sp, dic_action_number_comments_sp)"
   ]
  },
  {
   "cell_type": "code",
   "execution_count": null,
   "metadata": {},
   "outputs": [],
   "source": []
  },
  {
   "cell_type": "code",
   "execution_count": 22,
   "metadata": {},
   "outputs": [],
   "source": [
    "df_drama_user_stars_ge = pd.read_csv('./df_evaluations_genre/drama_stars_ge')"
   ]
  },
  {
   "cell_type": "code",
   "execution_count": 23,
   "metadata": {},
   "outputs": [],
   "source": [
    "df_drama_user_stars_sp = pd.read_csv('./df_evaluations_genre/drama_stars_sp')"
   ]
  },
  {
   "cell_type": "code",
   "execution_count": 24,
   "metadata": {},
   "outputs": [],
   "source": [
    "df_comedy_user_stars_ge = pd.read_csv('./df_evaluations_genre/comedy_stars_ge')"
   ]
  },
  {
   "cell_type": "code",
   "execution_count": 25,
   "metadata": {},
   "outputs": [],
   "source": [
    "df_comedy_user_stars_sp = pd.read_csv('./df_evaluations_genre/comedy_stars_sp')"
   ]
  },
  {
   "cell_type": "code",
   "execution_count": 26,
   "metadata": {},
   "outputs": [],
   "source": [
    "df_action_user_stars_ge = pd.read_csv('./df_evaluations_genre/action_stars_ge')"
   ]
  },
  {
   "cell_type": "code",
   "execution_count": 27,
   "metadata": {},
   "outputs": [],
   "source": [
    "df_action_user_stars_sp = pd.read_csv('./df_evaluations_genre/action_stars_sp')"
   ]
  },
  {
   "cell_type": "code",
   "execution_count": null,
   "metadata": {},
   "outputs": [],
   "source": []
  },
  {
   "cell_type": "code",
   "execution_count": 49,
   "metadata": {},
   "outputs": [],
   "source": [
    "df_drama_ge_classifier_user_number = create_df_classifier_user_number(dic_drama_ge_critics, dic_star_evaluation_user_drama_ge, dic_drama_number_comments_ge)"
   ]
  },
  {
   "cell_type": "code",
   "execution_count": 24,
   "metadata": {},
   "outputs": [],
   "source": [
    "f = 'df_drama_ge_classifier_user_number'\n",
    "df_drama_ge_classifier_user_number.to_csv(f'./df_evaluations_genre/{f}', index = False)"
   ]
  },
  {
   "cell_type": "code",
   "execution_count": 120,
   "metadata": {},
   "outputs": [],
   "source": []
  },
  {
   "cell_type": "code",
   "execution_count": 52,
   "metadata": {},
   "outputs": [],
   "source": [
    "df_drama_sp_classifier_user_number = create_df_classifier_user_number(dic_drama_sp_critics, dic_star_evaluation_user_drama_sp, dic_drama_number_comments_sp)"
   ]
  },
  {
   "cell_type": "code",
   "execution_count": 55,
   "metadata": {},
   "outputs": [],
   "source": [
    "f = 'df_drama_sp_classifier_user_number'\n",
    "df_drama_sp_classifier_user_number.to_csv(f'./df_evaluations_genre/{f}', index = False)"
   ]
  },
  {
   "cell_type": "code",
   "execution_count": 121,
   "metadata": {},
   "outputs": [],
   "source": []
  },
  {
   "cell_type": "code",
   "execution_count": 84,
   "metadata": {},
   "outputs": [],
   "source": [
    "df_comedy_ge_classifier_user_number = create_df_classifier_user_number(dic_comedy_ge_critics, dic_star_evaluation_user_comedy_ge, dic_comedy_number_comments_ge)"
   ]
  },
  {
   "cell_type": "code",
   "execution_count": 124,
   "metadata": {},
   "outputs": [],
   "source": [
    "f = 'df_comedy_ge_classifier_user_number'\n",
    "df_comedy_ge_classifier_user_number.to_csv(f'./df_evaluations_genre/{f}', index = False)"
   ]
  },
  {
   "cell_type": "code",
   "execution_count": 122,
   "metadata": {},
   "outputs": [],
   "source": []
  },
  {
   "cell_type": "code",
   "execution_count": 88,
   "metadata": {},
   "outputs": [],
   "source": [
    "df_comedy_sp_classifier_user_number = create_df_classifier_user_number(dic_comedy_sp_critics, dic_star_evaluation_user_comedy_sp, dic_comedy_number_comments_sp)"
   ]
  },
  {
   "cell_type": "code",
   "execution_count": 123,
   "metadata": {},
   "outputs": [],
   "source": [
    "f = 'df_comedy_sp_classifier_user_number'\n",
    "df_comedy_sp_classifier_user_number.to_csv(f'./df_evaluations_genre/{f}', index = False)"
   ]
  },
  {
   "cell_type": "code",
   "execution_count": 101,
   "metadata": {},
   "outputs": [],
   "source": []
  },
  {
   "cell_type": "code",
   "execution_count": 68,
   "metadata": {},
   "outputs": [],
   "source": [
    "df_action_ge_classifier_user_number = create_df_classifier_user_number(dic_action_ge_critics, dic_star_evaluation_user_action_ge, dic_action_number_comments_ge)"
   ]
  },
  {
   "cell_type": "code",
   "execution_count": 70,
   "metadata": {},
   "outputs": [],
   "source": [
    "f = 'df_action_ge_classifier_user_number'\n",
    "df_action_ge_classifier_user_number.to_csv(f'./df_evaluations_genre/{f}', index = False)"
   ]
  },
  {
   "cell_type": "code",
   "execution_count": 125,
   "metadata": {},
   "outputs": [],
   "source": []
  },
  {
   "cell_type": "code",
   "execution_count": 66,
   "metadata": {},
   "outputs": [],
   "source": [
    "df_action_sp_classifier_user_number = create_df_classifier_user_number(dic_action_sp_critics, dic_star_evaluation_user_action_sp, dic_action_number_comments_sp)"
   ]
  },
  {
   "cell_type": "code",
   "execution_count": 67,
   "metadata": {},
   "outputs": [],
   "source": [
    "f = 'df_action_sp_classifier_user_number'\n",
    "df_action_sp_classifier_user_number.to_csv(f'./df_evaluations_genre/{f}', index = False)"
   ]
  },
  {
   "cell_type": "code",
   "execution_count": null,
   "metadata": {},
   "outputs": [],
   "source": []
  },
  {
   "cell_type": "code",
   "execution_count": 53,
   "metadata": {},
   "outputs": [],
   "source": [
    "with open(\"./dic_film_number/dic_film_number_drama_ge\", \"r\") as fp:\n",
    "        dic_film_number_drama_ge = json.load(fp)"
   ]
  },
  {
   "cell_type": "code",
   "execution_count": 54,
   "metadata": {},
   "outputs": [],
   "source": [
    "with open(\"./dic_film_number/dic_film_number_drama_sp\", \"r\") as fp:\n",
    "        dic_film_number_drama_sp = json.load(fp)"
   ]
  },
  {
   "cell_type": "code",
   "execution_count": 34,
   "metadata": {},
   "outputs": [],
   "source": [
    "with open(\"./dic_film_number/dic_film_number_comedy_ge\", \"r\") as fp:\n",
    "        dic_film_number_comedy_ge = json.load(fp)"
   ]
  },
  {
   "cell_type": "code",
   "execution_count": 35,
   "metadata": {},
   "outputs": [],
   "source": [
    "with open(\"./dic_film_number/dic_film_number_comedy_sp\", \"r\") as fp:\n",
    "        dic_film_number_comedy_sp = json.load(fp)"
   ]
  },
  {
   "cell_type": "code",
   "execution_count": 36,
   "metadata": {},
   "outputs": [],
   "source": [
    "with open(\"./dic_film_number/dic_film_number_action_ge\", \"r\") as fp:\n",
    "        dic_film_number_action_ge = json.load(fp)"
   ]
  },
  {
   "cell_type": "code",
   "execution_count": 39,
   "metadata": {},
   "outputs": [],
   "source": [
    "with open(\"./dic_film_number/dic_film_number_action_sp\", \"r\") as fp:\n",
    "        dic_film_number_action_sp = json.load(fp)"
   ]
  },
  {
   "cell_type": "code",
   "execution_count": null,
   "metadata": {},
   "outputs": [],
   "source": []
  },
  {
   "cell_type": "code",
   "execution_count": 65,
   "metadata": {},
   "outputs": [],
   "source": [
    "df1 = get_df_same_film_names_genre(list_drama_ge, dic_drama_ge_critics, dic_star_evaluation_user_drama_ge, dic_drama_number_comments_ge)\n",
    "df2 = get_df_same_film_names_genre(list_drama_sp, dic_drama_sp_critics, dic_star_evaluation_user_drama_sp, dic_drama_number_comments_sp)\n",
    "df_drama_sp_ge = pd.concat([df1, df2], axis = 1)\n",
    "f = 'df_drama_sp_ge'\n",
    "df_drama_sp_ge.to_csv(f'./df_evaluations_genre/{f}', index = False)"
   ]
  },
  {
   "cell_type": "code",
   "execution_count": null,
   "metadata": {},
   "outputs": [],
   "source": []
  },
  {
   "cell_type": "code",
   "execution_count": 135,
   "metadata": {},
   "outputs": [],
   "source": [
    "df1 = get_df_same_film_names_genre(list_comedy_ge, dic_comedy_ge_critics, dic_star_evaluation_user_comedy_ge, dic_comedy_number_comments_ge)\n",
    "df2 = get_df_same_film_names_genre(list_comedy_sp, dic_comedy_sp_critics, dic_star_evaluation_user_comedy_sp, dic_comedy_number_comments_sp)\n",
    "df_comedy_sp_ge = pd.concat([df1, df2], axis = 1)\n",
    "f = 'df_comedy_sp_ge'\n",
    "df_comedy_sp_ge.to_csv(f'./df_evaluations_genre/{f}', index = False)"
   ]
  },
  {
   "cell_type": "code",
   "execution_count": null,
   "metadata": {},
   "outputs": [],
   "source": []
  },
  {
   "cell_type": "code",
   "execution_count": 146,
   "metadata": {},
   "outputs": [],
   "source": [
    "df1 = get_df_same_film_names_genre(list_action_ge, dic_action_ge_critics, dic_star_evaluation_user_action_ge, dic_action_number_comments_ge)\n",
    "df2 = get_df_same_film_names_genre(list_action_sp, dic_action_sp_critics, dic_star_evaluation_user_action_sp, dic_action_number_comments_sp)\n",
    "df_action_sp_ge = pd.concat([df1, df2], axis = 1)\n",
    "f = 'df_action_sp_ge'\n",
    "df_action_sp_ge.to_csv(f'./df_evaluations_genre/{f}', index = False)"
   ]
  },
  {
   "cell_type": "code",
   "execution_count": null,
   "metadata": {},
   "outputs": [],
   "source": []
  },
  {
   "cell_type": "code",
   "execution_count": null,
   "metadata": {},
   "outputs": [],
   "source": []
  },
  {
   "cell_type": "code",
   "execution_count": null,
   "metadata": {},
   "outputs": [],
   "source": []
  },
  {
   "cell_type": "code",
   "execution_count": null,
   "metadata": {},
   "outputs": [],
   "source": []
  },
  {
   "cell_type": "code",
   "execution_count": 47,
   "metadata": {},
   "outputs": [],
   "source": []
  },
  {
   "cell_type": "code",
   "execution_count": null,
   "metadata": {},
   "outputs": [],
   "source": []
  },
  {
   "cell_type": "code",
   "execution_count": null,
   "metadata": {},
   "outputs": [],
   "source": []
  },
  {
   "cell_type": "code",
   "execution_count": null,
   "metadata": {},
   "outputs": [],
   "source": []
  },
  {
   "cell_type": "code",
   "execution_count": 203,
   "metadata": {},
   "outputs": [],
   "source": []
  },
  {
   "cell_type": "code",
   "execution_count": 216,
   "metadata": {},
   "outputs": [],
   "source": []
  },
  {
   "cell_type": "code",
   "execution_count": 25,
   "metadata": {},
   "outputs": [],
   "source": []
  },
  {
   "cell_type": "code",
   "execution_count": 4,
   "metadata": {},
   "outputs": [],
   "source": []
  },
  {
   "cell_type": "code",
   "execution_count": 13,
   "metadata": {},
   "outputs": [],
   "source": []
  },
  {
   "cell_type": "code",
   "execution_count": 26,
   "metadata": {},
   "outputs": [],
   "source": []
  },
  {
   "cell_type": "code",
   "execution_count": 33,
   "metadata": {},
   "outputs": [],
   "source": []
  },
  {
   "cell_type": "code",
   "execution_count": null,
   "metadata": {},
   "outputs": [],
   "source": []
  },
  {
   "cell_type": "code",
   "execution_count": null,
   "metadata": {},
   "outputs": [],
   "source": []
  },
  {
   "cell_type": "code",
   "execution_count": null,
   "metadata": {},
   "outputs": [],
   "source": []
  },
  {
   "cell_type": "code",
   "execution_count": 103,
   "metadata": {},
   "outputs": [],
   "source": [
    "\n",
    "\n"
   ]
  },
  {
   "cell_type": "code",
   "execution_count": 109,
   "metadata": {},
   "outputs": [],
   "source": []
  },
  {
   "cell_type": "code",
   "execution_count": 132,
   "metadata": {},
   "outputs": [],
   "source": []
  },
  {
   "cell_type": "code",
   "execution_count": null,
   "metadata": {},
   "outputs": [],
   "source": []
  },
  {
   "cell_type": "code",
   "execution_count": 157,
   "metadata": {},
   "outputs": [],
   "source": []
  },
  {
   "cell_type": "code",
   "execution_count": null,
   "metadata": {},
   "outputs": [],
   "source": []
  },
  {
   "cell_type": "code",
   "execution_count": 114,
   "metadata": {},
   "outputs": [],
   "source": []
  },
  {
   "cell_type": "code",
   "execution_count": 145,
   "metadata": {},
   "outputs": [],
   "source": []
  },
  {
   "cell_type": "code",
   "execution_count": 201,
   "metadata": {},
   "outputs": [],
   "source": []
  },
  {
   "cell_type": "code",
   "execution_count": 217,
   "metadata": {},
   "outputs": [],
   "source": []
  },
  {
   "cell_type": "code",
   "execution_count": null,
   "metadata": {},
   "outputs": [],
   "source": []
  },
  {
   "cell_type": "code",
   "execution_count": 198,
   "metadata": {},
   "outputs": [],
   "source": []
  },
  {
   "cell_type": "code",
   "execution_count": null,
   "metadata": {},
   "outputs": [],
   "source": []
  },
  {
   "cell_type": "code",
   "execution_count": 200,
   "metadata": {},
   "outputs": [],
   "source": []
  },
  {
   "cell_type": "code",
   "execution_count": 208,
   "metadata": {},
   "outputs": [],
   "source": []
  },
  {
   "cell_type": "code",
   "execution_count": 218,
   "metadata": {},
   "outputs": [],
   "source": []
  },
  {
   "cell_type": "code",
   "execution_count": null,
   "metadata": {},
   "outputs": [],
   "source": []
  },
  {
   "cell_type": "code",
   "execution_count": 18,
   "metadata": {},
   "outputs": [],
   "source": []
  },
  {
   "cell_type": "code",
   "execution_count": null,
   "metadata": {},
   "outputs": [],
   "source": []
  },
  {
   "cell_type": "code",
   "execution_count": null,
   "metadata": {},
   "outputs": [],
   "source": []
  },
  {
   "cell_type": "code",
   "execution_count": 57,
   "metadata": {},
   "outputs": [],
   "source": []
  },
  {
   "cell_type": "code",
   "execution_count": null,
   "metadata": {},
   "outputs": [],
   "source": []
  },
  {
   "cell_type": "code",
   "execution_count": null,
   "metadata": {},
   "outputs": [],
   "source": []
  },
  {
   "cell_type": "code",
   "execution_count": null,
   "metadata": {},
   "outputs": [],
   "source": []
  },
  {
   "cell_type": "code",
   "execution_count": 16,
   "metadata": {},
   "outputs": [],
   "source": []
  },
  {
   "cell_type": "code",
   "execution_count": 19,
   "metadata": {},
   "outputs": [],
   "source": []
  },
  {
   "cell_type": "code",
   "execution_count": 28,
   "metadata": {},
   "outputs": [],
   "source": []
  },
  {
   "cell_type": "code",
   "execution_count": null,
   "metadata": {},
   "outputs": [],
   "source": []
  },
  {
   "cell_type": "code",
   "execution_count": null,
   "metadata": {},
   "outputs": [],
   "source": []
  },
  {
   "cell_type": "code",
   "execution_count": null,
   "metadata": {},
   "outputs": [],
   "source": []
  },
  {
   "cell_type": "code",
   "execution_count": null,
   "metadata": {},
   "outputs": [],
   "source": []
  }
 ],
 "metadata": {
  "kernelspec": {
   "display_name": "Python [conda env:final_env]",
   "language": "python",
   "name": "conda-env-final_env-py"
  },
  "language_info": {
   "codemirror_mode": {
    "name": "ipython",
    "version": 3
   },
   "file_extension": ".py",
   "mimetype": "text/x-python",
   "name": "python",
   "nbconvert_exporter": "python",
   "pygments_lexer": "ipython3",
   "version": "3.7.9"
  }
 },
 "nbformat": 4,
 "nbformat_minor": 4
}
